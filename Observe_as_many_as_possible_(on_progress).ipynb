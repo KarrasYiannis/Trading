{
  "nbformat": 4,
  "nbformat_minor": 0,
  "metadata": {
    "colab": {
      "provenance": [],
      "authorship_tag": "ABX9TyMzl768I3TRk7tpLiSSmXf/",
      "include_colab_link": true
    },
    "kernelspec": {
      "name": "python3",
      "display_name": "Python 3"
    },
    "language_info": {
      "name": "python"
    }
  },
  "cells": [
    {
      "cell_type": "markdown",
      "metadata": {
        "id": "view-in-github",
        "colab_type": "text"
      },
      "source": [
        "<a href=\"https://colab.research.google.com/github/KarrasYiannis/Trading/blob/main/Observe_as_many_as_possible_(on_progress).ipynb\" target=\"_parent\"><img src=\"https://colab.research.google.com/assets/colab-badge.svg\" alt=\"Open In Colab\"/></a>"
      ]
    },
    {
      "cell_type": "code",
      "execution_count": 30,
      "metadata": {
        "colab": {
          "base_uri": "https://localhost:8080/"
        },
        "id": "TQOO0RhP25Uo",
        "outputId": "6f8331dd-4294-4f8e-82a6-df144355289e"
      },
      "outputs": [
        {
          "output_type": "stream",
          "name": "stderr",
          "text": [
            "ERROR:unicorn_binance_websocket_api:BinanceWebSocketApiConnection.receive(52cc55bc62f0-3564-ca21-6d70-3490d134) - KeyError - error_msg: '52cc55bc62f0-3564-ca21-6d70-3490d134'\n",
            "ERROR:unicorn_binance_websocket_api:BinanceWebSocketApiConnection.__aexit__(52cc55bc62f0-3564-ca21-6d70-3490d134) - AttributeError - 'Connect' object has no attribute 'protocol'\n",
            "ERROR:unicorn_binance_websocket_api:BinanceWebSocketApiConnection.await._conn.__aenter__(57b9bf5a1f0d-e430-af2e-a48a-b30a2132, ['kline_1m'], ['btcusdt', 'bnbusdt', 'ethusdt', 'xrpusdt', 'trxusdt', 'ltcusdt']) - InvalidStatusCode error_msg: server rejected WebSocket connection: HTTP 451\n",
            "ERROR:unicorn_binance_websocket_api:BinanceWebSocketApiConnection.receive(aa63f5ae43c0-c7de-9d47-b83c-54eeafc6) - KeyError - error_msg: 'aa63f5ae43c0-c7de-9d47-b83c-54eeafc6'\n",
            "ERROR:unicorn_binance_websocket_api:BinanceWebSocketApiConnection.__aexit__(aa63f5ae43c0-c7de-9d47-b83c-54eeafc6) - AttributeError - 'Connect' object has no attribute 'protocol'\n",
            "ERROR:unicorn_binance_websocket_api:BinanceWebSocketApiConnection.send(57b9bf5a1f0d-e430-af2e-a48a-b30a2132, ['kline_1m'], ['btcusdt', 'bnbusdt', 'ethusdt', 'xrpusdt', 'trxusdt', 'ltcusdt']) - Exception KeyError - error_msg:  '57b9bf5a1f0d-e430-af2e-a48a-b30a2132'\n",
            "ERROR:unicorn_binance_websocket_api:BinanceWebSocketApiConnection.receive(57b9bf5a1f0d-e430-af2e-a48a-b30a2132) - KeyError - error_msg: '57b9bf5a1f0d-e430-af2e-a48a-b30a2132'\n",
            "ERROR:unicorn_binance_websocket_api:BinanceWebSocketApiConnection.__aexit__(57b9bf5a1f0d-e430-af2e-a48a-b30a2132) - AttributeError - 'Connect' object has no attribute 'protocol'\n"
          ]
        },
        {
          "output_type": "stream",
          "name": "stdout",
          "text": [
            "Requirement already satisfied: python-binance in /usr/local/lib/python3.10/dist-packages (1.0.19)\n",
            "Requirement already satisfied: requests in /usr/local/lib/python3.10/dist-packages (from python-binance) (2.31.0)\n",
            "Requirement already satisfied: six in /usr/local/lib/python3.10/dist-packages (from python-binance) (1.16.0)\n",
            "Requirement already satisfied: dateparser in /usr/local/lib/python3.10/dist-packages (from python-binance) (1.1.8)\n",
            "Requirement already satisfied: aiohttp in /usr/local/lib/python3.10/dist-packages (from python-binance) (3.8.5)\n",
            "Requirement already satisfied: ujson in /usr/local/lib/python3.10/dist-packages (from python-binance) (5.8.0)\n",
            "Requirement already satisfied: websockets in /usr/local/lib/python3.10/dist-packages (from python-binance) (10.4)\n",
            "Requirement already satisfied: pycryptodome in /usr/local/lib/python3.10/dist-packages (from python-binance) (3.18.0)\n",
            "Requirement already satisfied: attrs>=17.3.0 in /usr/local/lib/python3.10/dist-packages (from aiohttp->python-binance) (23.1.0)\n",
            "Requirement already satisfied: charset-normalizer<4.0,>=2.0 in /usr/local/lib/python3.10/dist-packages (from aiohttp->python-binance) (3.2.0)\n",
            "Requirement already satisfied: multidict<7.0,>=4.5 in /usr/local/lib/python3.10/dist-packages (from aiohttp->python-binance) (6.0.4)\n",
            "Requirement already satisfied: async-timeout<5.0,>=4.0.0a3 in /usr/local/lib/python3.10/dist-packages (from aiohttp->python-binance) (4.0.3)\n",
            "Requirement already satisfied: yarl<2.0,>=1.0 in /usr/local/lib/python3.10/dist-packages (from aiohttp->python-binance) (1.9.2)\n",
            "Requirement already satisfied: frozenlist>=1.1.1 in /usr/local/lib/python3.10/dist-packages (from aiohttp->python-binance) (1.4.0)\n",
            "Requirement already satisfied: aiosignal>=1.1.2 in /usr/local/lib/python3.10/dist-packages (from aiohttp->python-binance) (1.3.1)\n",
            "Requirement already satisfied: python-dateutil in /usr/local/lib/python3.10/dist-packages (from dateparser->python-binance) (2.8.2)\n",
            "Requirement already satisfied: pytz in /usr/local/lib/python3.10/dist-packages (from dateparser->python-binance) (2023.3)\n",
            "Requirement already satisfied: regex!=2019.02.19,!=2021.8.27 in /usr/local/lib/python3.10/dist-packages (from dateparser->python-binance) (2023.6.3)\n",
            "Requirement already satisfied: tzlocal in /usr/local/lib/python3.10/dist-packages (from dateparser->python-binance) (5.0.1)\n",
            "Requirement already satisfied: idna<4,>=2.5 in /usr/local/lib/python3.10/dist-packages (from requests->python-binance) (3.4)\n",
            "Requirement already satisfied: urllib3<3,>=1.21.1 in /usr/local/lib/python3.10/dist-packages (from requests->python-binance) (2.0.4)\n",
            "Requirement already satisfied: certifi>=2017.4.17 in /usr/local/lib/python3.10/dist-packages (from requests->python-binance) (2023.7.22)\n"
          ]
        },
        {
          "output_type": "stream",
          "name": "stderr",
          "text": [
            "ERROR:unicorn_binance_websocket_api:BinanceWebSocketApiConnection.await._conn.__aenter__(52cc55bc62f0-3564-ca21-6d70-3490d134, ['kline_1m'], ['ltcusdt', 'btcusdt', 'bnbusdt', 'ethusdt', 'xrpusdt', 'trxusdt']) - InvalidStatusCode error_msg: server rejected WebSocket connection: HTTP 451\n",
            "ERROR:unicorn_binance_websocket_api:BinanceWebSocketApiConnection.send(52cc55bc62f0-3564-ca21-6d70-3490d134, ['kline_1m'], ['ltcusdt', 'btcusdt', 'bnbusdt', 'ethusdt', 'xrpusdt', 'trxusdt']) - Exception KeyError - error_msg:  '52cc55bc62f0-3564-ca21-6d70-3490d134'\n",
            "ERROR:unicorn_binance_websocket_api:BinanceWebSocketApiConnection.await._conn.__aenter__(aa63f5ae43c0-c7de-9d47-b83c-54eeafc6, ['kline_1m'], ['ltcusdt', 'btcusdt', 'bnbusdt', 'ethusdt', 'xrpusdt', 'trxusdt']) - InvalidStatusCode error_msg: server rejected WebSocket connection: HTTP 451\n",
            "ERROR:unicorn_binance_websocket_api:BinanceWebSocketApiConnection.send(aa63f5ae43c0-c7de-9d47-b83c-54eeafc6, ['kline_1m'], ['ltcusdt', 'btcusdt', 'bnbusdt', 'ethusdt', 'xrpusdt', 'trxusdt']) - Exception KeyError - error_msg:  'aa63f5ae43c0-c7de-9d47-b83c-54eeafc6'\n",
            "ERROR:unicorn_binance_websocket_api:BinanceWebSocketApiConnection.await._conn.__aenter__(57b9bf5a1f0d-e430-af2e-a48a-b30a2132, ['kline_1m'], ['ltcusdt', 'btcusdt', 'bnbusdt', 'ethusdt', 'xrpusdt', 'trxusdt']) - InvalidStatusCode error_msg: server rejected WebSocket connection: HTTP 451\n",
            "ERROR:unicorn_binance_websocket_api:BinanceWebSocketApiConnection.send(57b9bf5a1f0d-e430-af2e-a48a-b30a2132, ['kline_1m'], ['ltcusdt', 'btcusdt', 'bnbusdt', 'ethusdt', 'xrpusdt', 'trxusdt']) - Exception KeyError - error_msg:  '57b9bf5a1f0d-e430-af2e-a48a-b30a2132'\n",
            "ERROR:unicorn_binance_websocket_api:BinanceWebSocketApiConnection.receive(52cc55bc62f0-3564-ca21-6d70-3490d134) - KeyError - error_msg: '52cc55bc62f0-3564-ca21-6d70-3490d134'\n",
            "ERROR:unicorn_binance_websocket_api:BinanceWebSocketApiConnection.__aexit__(52cc55bc62f0-3564-ca21-6d70-3490d134) - AttributeError - 'Connect' object has no attribute 'protocol'\n",
            "ERROR:unicorn_binance_websocket_api:BinanceWebSocketApiConnection.receive(aa63f5ae43c0-c7de-9d47-b83c-54eeafc6) - KeyError - error_msg: 'aa63f5ae43c0-c7de-9d47-b83c-54eeafc6'\n",
            "ERROR:unicorn_binance_websocket_api:BinanceWebSocketApiConnection.__aexit__(aa63f5ae43c0-c7de-9d47-b83c-54eeafc6) - AttributeError - 'Connect' object has no attribute 'protocol'\n",
            "ERROR:unicorn_binance_websocket_api:BinanceWebSocketApiConnection.receive(57b9bf5a1f0d-e430-af2e-a48a-b30a2132) - KeyError - error_msg: '57b9bf5a1f0d-e430-af2e-a48a-b30a2132'\n",
            "ERROR:unicorn_binance_websocket_api:BinanceWebSocketApiConnection.__aexit__(57b9bf5a1f0d-e430-af2e-a48a-b30a2132) - AttributeError - 'Connect' object has no attribute 'protocol'\n",
            "ERROR:unicorn_binance_websocket_api:BinanceWebSocketApiConnection.await._conn.__aenter__(aa63f5ae43c0-c7de-9d47-b83c-54eeafc6, ['kline_1m'], ['btcusdt', 'bnbusdt', 'ethusdt', 'xrpusdt', 'trxusdt', 'ltcusdt']) - InvalidStatusCode error_msg: server rejected WebSocket connection: HTTP 451\n",
            "ERROR:unicorn_binance_websocket_api:BinanceWebSocketApiConnection.send(aa63f5ae43c0-c7de-9d47-b83c-54eeafc6, ['kline_1m'], ['btcusdt', 'bnbusdt', 'ethusdt', 'xrpusdt', 'trxusdt', 'ltcusdt']) - Exception KeyError - error_msg:  'aa63f5ae43c0-c7de-9d47-b83c-54eeafc6'\n",
            "ERROR:unicorn_binance_websocket_api:BinanceWebSocketApiConnection.await._conn.__aenter__(52cc55bc62f0-3564-ca21-6d70-3490d134, ['kline_1m'], ['btcusdt', 'bnbusdt', 'ethusdt', 'xrpusdt', 'trxusdt', 'ltcusdt']) - InvalidStatusCode error_msg: server rejected WebSocket connection: HTTP 451\n",
            "ERROR:unicorn_binance_websocket_api:BinanceWebSocketApiConnection.send(52cc55bc62f0-3564-ca21-6d70-3490d134, ['kline_1m'], ['btcusdt', 'bnbusdt', 'ethusdt', 'xrpusdt', 'trxusdt', 'ltcusdt']) - Exception KeyError - error_msg:  '52cc55bc62f0-3564-ca21-6d70-3490d134'\n",
            "ERROR:unicorn_binance_websocket_api:BinanceWebSocketApiConnection.await._conn.__aenter__(57b9bf5a1f0d-e430-af2e-a48a-b30a2132, ['kline_1m'], ['btcusdt', 'bnbusdt', 'ethusdt', 'xrpusdt', 'trxusdt', 'ltcusdt']) - InvalidStatusCode error_msg: server rejected WebSocket connection: HTTP 451\n",
            "ERROR:unicorn_binance_websocket_api:BinanceWebSocketApiConnection.send(57b9bf5a1f0d-e430-af2e-a48a-b30a2132, ['kline_1m'], ['btcusdt', 'bnbusdt', 'ethusdt', 'xrpusdt', 'trxusdt', 'ltcusdt']) - Exception KeyError - error_msg:  '57b9bf5a1f0d-e430-af2e-a48a-b30a2132'\n",
            "ERROR:unicorn_binance_websocket_api:BinanceWebSocketApiConnection.receive(aa63f5ae43c0-c7de-9d47-b83c-54eeafc6) - KeyError - error_msg: 'aa63f5ae43c0-c7de-9d47-b83c-54eeafc6'\n",
            "ERROR:unicorn_binance_websocket_api:BinanceWebSocketApiConnection.__aexit__(aa63f5ae43c0-c7de-9d47-b83c-54eeafc6) - AttributeError - 'Connect' object has no attribute 'protocol'\n",
            "ERROR:unicorn_binance_websocket_api:BinanceWebSocketApiConnection.receive(52cc55bc62f0-3564-ca21-6d70-3490d134) - KeyError - error_msg: '52cc55bc62f0-3564-ca21-6d70-3490d134'\n",
            "ERROR:unicorn_binance_websocket_api:BinanceWebSocketApiConnection.__aexit__(52cc55bc62f0-3564-ca21-6d70-3490d134) - AttributeError - 'Connect' object has no attribute 'protocol'\n",
            "ERROR:unicorn_binance_websocket_api:BinanceWebSocketApiConnection.receive(57b9bf5a1f0d-e430-af2e-a48a-b30a2132) - KeyError - error_msg: '57b9bf5a1f0d-e430-af2e-a48a-b30a2132'\n",
            "ERROR:unicorn_binance_websocket_api:BinanceWebSocketApiConnection.__aexit__(57b9bf5a1f0d-e430-af2e-a48a-b30a2132) - AttributeError - 'Connect' object has no attribute 'protocol'\n",
            "ERROR:unicorn_binance_websocket_api:BinanceWebSocketApiConnection.await._conn.__aenter__(aa63f5ae43c0-c7de-9d47-b83c-54eeafc6, ['kline_1m'], ['ltcusdt', 'btcusdt', 'bnbusdt', 'ethusdt', 'xrpusdt', 'trxusdt']) - InvalidStatusCode error_msg: server rejected WebSocket connection: HTTP 451\n",
            "ERROR:unicorn_binance_websocket_api:BinanceWebSocketApiConnection.send(aa63f5ae43c0-c7de-9d47-b83c-54eeafc6, ['kline_1m'], ['ltcusdt', 'btcusdt', 'bnbusdt', 'ethusdt', 'xrpusdt', 'trxusdt']) - Exception KeyError - error_msg:  'aa63f5ae43c0-c7de-9d47-b83c-54eeafc6'\n",
            "ERROR:unicorn_binance_websocket_api:BinanceWebSocketApiConnection.await._conn.__aenter__(52cc55bc62f0-3564-ca21-6d70-3490d134, ['kline_1m'], ['ltcusdt', 'btcusdt', 'bnbusdt', 'ethusdt', 'xrpusdt', 'trxusdt']) - InvalidStatusCode error_msg: server rejected WebSocket connection: HTTP 451\n",
            "ERROR:unicorn_binance_websocket_api:BinanceWebSocketApiConnection.send(52cc55bc62f0-3564-ca21-6d70-3490d134, ['kline_1m'], ['ltcusdt', 'btcusdt', 'bnbusdt', 'ethusdt', 'xrpusdt', 'trxusdt']) - Exception KeyError - error_msg:  '52cc55bc62f0-3564-ca21-6d70-3490d134'\n",
            "ERROR:unicorn_binance_websocket_api:BinanceWebSocketApiConnection.await._conn.__aenter__(57b9bf5a1f0d-e430-af2e-a48a-b30a2132, ['kline_1m'], ['ltcusdt', 'btcusdt', 'bnbusdt', 'ethusdt', 'xrpusdt', 'trxusdt']) - InvalidStatusCode error_msg: server rejected WebSocket connection: HTTP 451\n",
            "ERROR:unicorn_binance_websocket_api:BinanceWebSocketApiConnection.send(57b9bf5a1f0d-e430-af2e-a48a-b30a2132, ['kline_1m'], ['ltcusdt', 'btcusdt', 'bnbusdt', 'ethusdt', 'xrpusdt', 'trxusdt']) - Exception KeyError - error_msg:  '57b9bf5a1f0d-e430-af2e-a48a-b30a2132'\n",
            "ERROR:unicorn_binance_websocket_api:BinanceWebSocketApiConnection.receive(aa63f5ae43c0-c7de-9d47-b83c-54eeafc6) - KeyError - error_msg: 'aa63f5ae43c0-c7de-9d47-b83c-54eeafc6'\n",
            "ERROR:unicorn_binance_websocket_api:BinanceWebSocketApiConnection.__aexit__(aa63f5ae43c0-c7de-9d47-b83c-54eeafc6) - AttributeError - 'Connect' object has no attribute 'protocol'\n",
            "ERROR:unicorn_binance_websocket_api:BinanceWebSocketApiConnection.receive(52cc55bc62f0-3564-ca21-6d70-3490d134) - KeyError - error_msg: '52cc55bc62f0-3564-ca21-6d70-3490d134'\n",
            "ERROR:unicorn_binance_websocket_api:BinanceWebSocketApiConnection.__aexit__(52cc55bc62f0-3564-ca21-6d70-3490d134) - AttributeError - 'Connect' object has no attribute 'protocol'\n",
            "ERROR:unicorn_binance_websocket_api:BinanceWebSocketApiConnection.receive(57b9bf5a1f0d-e430-af2e-a48a-b30a2132) - KeyError - error_msg: '57b9bf5a1f0d-e430-af2e-a48a-b30a2132'\n",
            "ERROR:unicorn_binance_websocket_api:BinanceWebSocketApiConnection.__aexit__(57b9bf5a1f0d-e430-af2e-a48a-b30a2132) - AttributeError - 'Connect' object has no attribute 'protocol'\n",
            "ERROR:unicorn_binance_websocket_api:BinanceWebSocketApiConnection.await._conn.__aenter__(52cc55bc62f0-3564-ca21-6d70-3490d134, ['kline_1m'], ['btcusdt', 'bnbusdt', 'ethusdt', 'xrpusdt', 'trxusdt', 'ltcusdt']) - InvalidStatusCode error_msg: server rejected WebSocket connection: HTTP 451\n",
            "ERROR:unicorn_binance_websocket_api:BinanceWebSocketApiConnection.send(52cc55bc62f0-3564-ca21-6d70-3490d134, ['kline_1m'], ['btcusdt', 'bnbusdt', 'ethusdt', 'xrpusdt', 'trxusdt', 'ltcusdt']) - Exception KeyError - error_msg:  '52cc55bc62f0-3564-ca21-6d70-3490d134'\n",
            "ERROR:unicorn_binance_websocket_api:BinanceWebSocketApiConnection.await._conn.__aenter__(aa63f5ae43c0-c7de-9d47-b83c-54eeafc6, ['kline_1m'], ['btcusdt', 'bnbusdt', 'ethusdt', 'xrpusdt', 'trxusdt', 'ltcusdt']) - InvalidStatusCode error_msg: server rejected WebSocket connection: HTTP 451\n",
            "ERROR:unicorn_binance_websocket_api:BinanceWebSocketApiConnection.send(aa63f5ae43c0-c7de-9d47-b83c-54eeafc6, ['kline_1m'], ['btcusdt', 'bnbusdt', 'ethusdt', 'xrpusdt', 'trxusdt', 'ltcusdt']) - Exception KeyError - error_msg:  'aa63f5ae43c0-c7de-9d47-b83c-54eeafc6'\n",
            "ERROR:unicorn_binance_websocket_api:BinanceWebSocketApiConnection.await._conn.__aenter__(57b9bf5a1f0d-e430-af2e-a48a-b30a2132, ['kline_1m'], ['btcusdt', 'bnbusdt', 'ethusdt', 'xrpusdt', 'trxusdt', 'ltcusdt']) - InvalidStatusCode error_msg: server rejected WebSocket connection: HTTP 451\n",
            "ERROR:unicorn_binance_websocket_api:BinanceWebSocketApiConnection.send(57b9bf5a1f0d-e430-af2e-a48a-b30a2132, ['kline_1m'], ['btcusdt', 'bnbusdt', 'ethusdt', 'xrpusdt', 'trxusdt', 'ltcusdt']) - Exception KeyError - error_msg:  '57b9bf5a1f0d-e430-af2e-a48a-b30a2132'\n",
            "ERROR:unicorn_binance_websocket_api:BinanceWebSocketApiConnection.receive(52cc55bc62f0-3564-ca21-6d70-3490d134) - KeyError - error_msg: '52cc55bc62f0-3564-ca21-6d70-3490d134'\n",
            "ERROR:unicorn_binance_websocket_api:BinanceWebSocketApiConnection.__aexit__(52cc55bc62f0-3564-ca21-6d70-3490d134) - AttributeError - 'Connect' object has no attribute 'protocol'\n",
            "ERROR:unicorn_binance_websocket_api:BinanceWebSocketApiConnection.receive(aa63f5ae43c0-c7de-9d47-b83c-54eeafc6) - KeyError - error_msg: 'aa63f5ae43c0-c7de-9d47-b83c-54eeafc6'\n",
            "ERROR:unicorn_binance_websocket_api:BinanceWebSocketApiConnection.__aexit__(aa63f5ae43c0-c7de-9d47-b83c-54eeafc6) - AttributeError - 'Connect' object has no attribute 'protocol'\n",
            "ERROR:unicorn_binance_websocket_api:BinanceWebSocketApiConnection.receive(57b9bf5a1f0d-e430-af2e-a48a-b30a2132) - KeyError - error_msg: '57b9bf5a1f0d-e430-af2e-a48a-b30a2132'\n",
            "ERROR:unicorn_binance_websocket_api:BinanceWebSocketApiConnection.__aexit__(57b9bf5a1f0d-e430-af2e-a48a-b30a2132) - AttributeError - 'Connect' object has no attribute 'protocol'\n",
            "ERROR:unicorn_binance_websocket_api:BinanceWebSocketApiConnection.await._conn.__aenter__(aa63f5ae43c0-c7de-9d47-b83c-54eeafc6, ['kline_1m'], ['ltcusdt', 'btcusdt', 'bnbusdt', 'ethusdt', 'xrpusdt', 'trxusdt']) - InvalidStatusCode error_msg: server rejected WebSocket connection: HTTP 451\n",
            "ERROR:unicorn_binance_websocket_api:BinanceWebSocketApiConnection.send(aa63f5ae43c0-c7de-9d47-b83c-54eeafc6, ['kline_1m'], ['ltcusdt', 'btcusdt', 'bnbusdt', 'ethusdt', 'xrpusdt', 'trxusdt']) - Exception KeyError - error_msg:  'aa63f5ae43c0-c7de-9d47-b83c-54eeafc6'\n",
            "ERROR:unicorn_binance_websocket_api:BinanceWebSocketApiConnection.await._conn.__aenter__(52cc55bc62f0-3564-ca21-6d70-3490d134, ['kline_1m'], ['ltcusdt', 'btcusdt', 'bnbusdt', 'ethusdt', 'xrpusdt', 'trxusdt']) - InvalidStatusCode error_msg: server rejected WebSocket connection: HTTP 451\n",
            "ERROR:unicorn_binance_websocket_api:BinanceWebSocketApiConnection.send(52cc55bc62f0-3564-ca21-6d70-3490d134, ['kline_1m'], ['ltcusdt', 'btcusdt', 'bnbusdt', 'ethusdt', 'xrpusdt', 'trxusdt']) - Exception KeyError - error_msg:  '52cc55bc62f0-3564-ca21-6d70-3490d134'\n"
          ]
        },
        {
          "output_type": "stream",
          "name": "stdout",
          "text": [
            "Requirement already satisfied: unicorn-binance-websocket-api in /usr/local/lib/python3.10/dist-packages (1.46.1)\n",
            "Requirement already satisfied: colorama in /usr/local/lib/python3.10/dist-packages (from unicorn-binance-websocket-api) (0.4.6)\n",
            "Requirement already satisfied: requests in /usr/local/lib/python3.10/dist-packages (from unicorn-binance-websocket-api) (2.31.0)\n",
            "Requirement already satisfied: websocket-client in /usr/local/lib/python3.10/dist-packages (from unicorn-binance-websocket-api) (1.6.1)\n",
            "Requirement already satisfied: websockets==10.4 in /usr/local/lib/python3.10/dist-packages (from unicorn-binance-websocket-api) (10.4)\n",
            "Requirement already satisfied: flask-restful in /usr/local/lib/python3.10/dist-packages (from unicorn-binance-websocket-api) (0.3.10)\n",
            "Requirement already satisfied: cheroot in /usr/local/lib/python3.10/dist-packages (from unicorn-binance-websocket-api) (10.0.0)\n",
            "Requirement already satisfied: flask in /usr/local/lib/python3.10/dist-packages (from unicorn-binance-websocket-api) (2.2.5)\n",
            "Requirement already satisfied: ujson in /usr/local/lib/python3.10/dist-packages (from unicorn-binance-websocket-api) (5.8.0)\n",
            "Requirement already satisfied: psutil in /usr/local/lib/python3.10/dist-packages (from unicorn-binance-websocket-api) (5.9.5)\n",
            "Requirement already satisfied: PySocks in /usr/local/lib/python3.10/dist-packages (from unicorn-binance-websocket-api) (1.7.1)\n",
            "Requirement already satisfied: unicorn-fy in /usr/local/lib/python3.10/dist-packages (from unicorn-binance-websocket-api) (0.12.2)\n",
            "Requirement already satisfied: unicorn-binance-rest-api>=1.9.0 in /usr/local/lib/python3.10/dist-packages (from unicorn-binance-websocket-api) (1.10.0)\n",
            "Requirement already satisfied: typing-extensions in /usr/local/lib/python3.10/dist-packages (from unicorn-binance-websocket-api) (4.7.1)\n",
            "Requirement already satisfied: certifi in /usr/local/lib/python3.10/dist-packages (from unicorn-binance-rest-api>=1.9.0->unicorn-binance-websocket-api) (2023.7.22)\n",
            "Requirement already satisfied: cryptography in /usr/local/lib/python3.10/dist-packages (from unicorn-binance-rest-api>=1.9.0->unicorn-binance-websocket-api) (41.0.3)\n",
            "Requirement already satisfied: dateparser in /usr/local/lib/python3.10/dist-packages (from unicorn-binance-rest-api>=1.9.0->unicorn-binance-websocket-api) (1.1.8)\n",
            "Requirement already satisfied: pyOpenSSL in /usr/local/lib/python3.10/dist-packages (from unicorn-binance-rest-api>=1.9.0->unicorn-binance-websocket-api) (23.2.0)\n",
            "Requirement already satisfied: service-identity in /usr/local/lib/python3.10/dist-packages (from unicorn-binance-rest-api>=1.9.0->unicorn-binance-websocket-api) (23.1.0)\n",
            "Requirement already satisfied: regex in /usr/local/lib/python3.10/dist-packages (from unicorn-binance-rest-api>=1.9.0->unicorn-binance-websocket-api) (2023.6.3)\n",
            "Requirement already satisfied: more-itertools>=2.6 in /usr/local/lib/python3.10/dist-packages (from cheroot->unicorn-binance-websocket-api) (10.1.0)\n",
            "Requirement already satisfied: jaraco.functools in /usr/local/lib/python3.10/dist-packages (from cheroot->unicorn-binance-websocket-api) (3.8.1)\n"
          ]
        },
        {
          "output_type": "stream",
          "name": "stderr",
          "text": [
            "ERROR:unicorn_binance_websocket_api:BinanceWebSocketApiConnection.await._conn.__aenter__(57b9bf5a1f0d-e430-af2e-a48a-b30a2132, ['kline_1m'], ['ltcusdt', 'btcusdt', 'bnbusdt', 'ethusdt', 'xrpusdt', 'trxusdt']) - InvalidStatusCode error_msg: server rejected WebSocket connection: HTTP 451\n",
            "ERROR:unicorn_binance_websocket_api:BinanceWebSocketApiConnection.send(57b9bf5a1f0d-e430-af2e-a48a-b30a2132, ['kline_1m'], ['ltcusdt', 'btcusdt', 'bnbusdt', 'ethusdt', 'xrpusdt', 'trxusdt']) - Exception KeyError - error_msg:  '57b9bf5a1f0d-e430-af2e-a48a-b30a2132'\n"
          ]
        },
        {
          "output_type": "stream",
          "name": "stdout",
          "text": [
            "Requirement already satisfied: Werkzeug>=2.2.2 in /usr/local/lib/python3.10/dist-packages (from flask->unicorn-binance-websocket-api) (2.3.7)\n",
            "Requirement already satisfied: Jinja2>=3.0 in /usr/local/lib/python3.10/dist-packages (from flask->unicorn-binance-websocket-api) (3.1.2)\n",
            "Requirement already satisfied: itsdangerous>=2.0 in /usr/local/lib/python3.10/dist-packages (from flask->unicorn-binance-websocket-api) (2.1.2)\n",
            "Requirement already satisfied: click>=8.0 in /usr/local/lib/python3.10/dist-packages (from flask->unicorn-binance-websocket-api) (8.1.6)\n",
            "Requirement already satisfied: aniso8601>=0.82 in /usr/local/lib/python3.10/dist-packages (from flask-restful->unicorn-binance-websocket-api) (9.0.1)\n",
            "Requirement already satisfied: six>=1.3.0 in /usr/local/lib/python3.10/dist-packages (from flask-restful->unicorn-binance-websocket-api) (1.16.0)\n",
            "Requirement already satisfied: pytz in /usr/local/lib/python3.10/dist-packages (from flask-restful->unicorn-binance-websocket-api) (2023.3)\n",
            "Requirement already satisfied: charset-normalizer<4,>=2 in /usr/local/lib/python3.10/dist-packages (from requests->unicorn-binance-websocket-api) (3.2.0)\n",
            "Requirement already satisfied: idna<4,>=2.5 in /usr/local/lib/python3.10/dist-packages (from requests->unicorn-binance-websocket-api) (3.4)\n",
            "Requirement already satisfied: urllib3<3,>=1.21.1 in /usr/local/lib/python3.10/dist-packages (from requests->unicorn-binance-websocket-api) (2.0.4)\n",
            "Requirement already satisfied: MarkupSafe>=2.0 in /usr/local/lib/python3.10/dist-packages (from Jinja2>=3.0->flask->unicorn-binance-websocket-api) (2.1.3)\n",
            "Requirement already satisfied: cffi>=1.12 in /usr/local/lib/python3.10/dist-packages (from cryptography->unicorn-binance-rest-api>=1.9.0->unicorn-binance-websocket-api) (1.15.1)\n",
            "Requirement already satisfied: python-dateutil in /usr/local/lib/python3.10/dist-packages (from dateparser->unicorn-binance-rest-api>=1.9.0->unicorn-binance-websocket-api) (2.8.2)\n",
            "Requirement already satisfied: tzlocal in /usr/local/lib/python3.10/dist-packages (from dateparser->unicorn-binance-rest-api>=1.9.0->unicorn-binance-websocket-api) (5.0.1)\n",
            "Requirement already satisfied: attrs>=19.1.0 in /usr/local/lib/python3.10/dist-packages (from service-identity->unicorn-binance-rest-api>=1.9.0->unicorn-binance-websocket-api) (23.1.0)\n",
            "Requirement already satisfied: pyasn1 in /usr/local/lib/python3.10/dist-packages (from service-identity->unicorn-binance-rest-api>=1.9.0->unicorn-binance-websocket-api) (0.5.0)\n",
            "Requirement already satisfied: pyasn1-modules in /usr/local/lib/python3.10/dist-packages (from service-identity->unicorn-binance-rest-api>=1.9.0->unicorn-binance-websocket-api) (0.3.0)\n"
          ]
        },
        {
          "output_type": "stream",
          "name": "stderr",
          "text": [
            "ERROR:unicorn_binance_websocket_api:BinanceWebSocketApiConnection.receive(aa63f5ae43c0-c7de-9d47-b83c-54eeafc6) - KeyError - error_msg: 'aa63f5ae43c0-c7de-9d47-b83c-54eeafc6'\n",
            "ERROR:unicorn_binance_websocket_api:BinanceWebSocketApiConnection.__aexit__(aa63f5ae43c0-c7de-9d47-b83c-54eeafc6) - AttributeError - 'Connect' object has no attribute 'protocol'\n",
            "ERROR:unicorn_binance_websocket_api:BinanceWebSocketApiConnection.receive(52cc55bc62f0-3564-ca21-6d70-3490d134) - KeyError - error_msg: '52cc55bc62f0-3564-ca21-6d70-3490d134'\n",
            "ERROR:unicorn_binance_websocket_api:BinanceWebSocketApiConnection.__aexit__(52cc55bc62f0-3564-ca21-6d70-3490d134) - AttributeError - 'Connect' object has no attribute 'protocol'\n"
          ]
        },
        {
          "output_type": "stream",
          "name": "stdout",
          "text": [
            "Requirement already satisfied: pycparser in /usr/local/lib/python3.10/dist-packages (from cffi>=1.12->cryptography->unicorn-binance-rest-api>=1.9.0->unicorn-binance-websocket-api) (2.21)\n"
          ]
        },
        {
          "output_type": "stream",
          "name": "stderr",
          "text": [
            "ERROR:unicorn_binance_websocket_api:BinanceWebSocketApiConnection.receive(57b9bf5a1f0d-e430-af2e-a48a-b30a2132) - KeyError - error_msg: '57b9bf5a1f0d-e430-af2e-a48a-b30a2132'\n",
            "ERROR:unicorn_binance_websocket_api:BinanceWebSocketApiConnection.__aexit__(57b9bf5a1f0d-e430-af2e-a48a-b30a2132) - AttributeError - 'Connect' object has no attribute 'protocol'\n",
            "ERROR:unicorn_binance_websocket_api:BinanceWebSocketApiConnection.await._conn.__aenter__(aa63f5ae43c0-c7de-9d47-b83c-54eeafc6, ['kline_1m'], ['btcusdt', 'bnbusdt', 'ethusdt', 'xrpusdt', 'trxusdt', 'ltcusdt']) - InvalidStatusCode error_msg: server rejected WebSocket connection: HTTP 451\n",
            "ERROR:unicorn_binance_websocket_api:BinanceWebSocketApiConnection.send(aa63f5ae43c0-c7de-9d47-b83c-54eeafc6, ['kline_1m'], ['btcusdt', 'bnbusdt', 'ethusdt', 'xrpusdt', 'trxusdt', 'ltcusdt']) - Exception KeyError - error_msg:  'aa63f5ae43c0-c7de-9d47-b83c-54eeafc6'\n",
            "ERROR:unicorn_binance_websocket_api:BinanceWebSocketApiConnection.await._conn.__aenter__(52cc55bc62f0-3564-ca21-6d70-3490d134, ['kline_1m'], ['btcusdt', 'bnbusdt', 'ethusdt', 'xrpusdt', 'trxusdt', 'ltcusdt']) - InvalidStatusCode error_msg: server rejected WebSocket connection: HTTP 451\n",
            "ERROR:unicorn_binance_websocket_api:BinanceWebSocketApiConnection.send(52cc55bc62f0-3564-ca21-6d70-3490d134, ['kline_1m'], ['btcusdt', 'bnbusdt', 'ethusdt', 'xrpusdt', 'trxusdt', 'ltcusdt']) - Exception KeyError - error_msg:  '52cc55bc62f0-3564-ca21-6d70-3490d134'\n",
            "ERROR:unicorn_binance_websocket_api:BinanceWebSocketApiConnection.await._conn.__aenter__(57b9bf5a1f0d-e430-af2e-a48a-b30a2132, ['kline_1m'], ['btcusdt', 'bnbusdt', 'ethusdt', 'xrpusdt', 'trxusdt', 'ltcusdt']) - InvalidStatusCode error_msg: server rejected WebSocket connection: HTTP 451\n",
            "ERROR:unicorn_binance_websocket_api:BinanceWebSocketApiConnection.send(57b9bf5a1f0d-e430-af2e-a48a-b30a2132, ['kline_1m'], ['btcusdt', 'bnbusdt', 'ethusdt', 'xrpusdt', 'trxusdt', 'ltcusdt']) - Exception KeyError - error_msg:  '57b9bf5a1f0d-e430-af2e-a48a-b30a2132'\n",
            "ERROR:unicorn_binance_websocket_api:BinanceWebSocketApiConnection.receive(aa63f5ae43c0-c7de-9d47-b83c-54eeafc6) - KeyError - error_msg: 'aa63f5ae43c0-c7de-9d47-b83c-54eeafc6'\n",
            "ERROR:unicorn_binance_websocket_api:BinanceWebSocketApiConnection.__aexit__(aa63f5ae43c0-c7de-9d47-b83c-54eeafc6) - AttributeError - 'Connect' object has no attribute 'protocol'\n",
            "ERROR:unicorn_binance_websocket_api:BinanceWebSocketApiConnection.receive(52cc55bc62f0-3564-ca21-6d70-3490d134) - KeyError - error_msg: '52cc55bc62f0-3564-ca21-6d70-3490d134'\n",
            "ERROR:unicorn_binance_websocket_api:BinanceWebSocketApiConnection.__aexit__(52cc55bc62f0-3564-ca21-6d70-3490d134) - AttributeError - 'Connect' object has no attribute 'protocol'\n",
            "ERROR:unicorn_binance_websocket_api:BinanceWebSocketApiConnection.receive(57b9bf5a1f0d-e430-af2e-a48a-b30a2132) - KeyError - error_msg: '57b9bf5a1f0d-e430-af2e-a48a-b30a2132'\n",
            "ERROR:unicorn_binance_websocket_api:BinanceWebSocketApiConnection.__aexit__(57b9bf5a1f0d-e430-af2e-a48a-b30a2132) - AttributeError - 'Connect' object has no attribute 'protocol'\n",
            "ERROR:unicorn_binance_websocket_api:BinanceWebSocketApiConnection.await._conn.__aenter__(aa63f5ae43c0-c7de-9d47-b83c-54eeafc6, ['kline_1m'], ['ltcusdt', 'btcusdt', 'bnbusdt', 'ethusdt', 'xrpusdt', 'trxusdt']) - InvalidStatusCode error_msg: server rejected WebSocket connection: HTTP 451\n",
            "ERROR:unicorn_binance_websocket_api:BinanceWebSocketApiConnection.send(aa63f5ae43c0-c7de-9d47-b83c-54eeafc6, ['kline_1m'], ['ltcusdt', 'btcusdt', 'bnbusdt', 'ethusdt', 'xrpusdt', 'trxusdt']) - Exception KeyError - error_msg:  'aa63f5ae43c0-c7de-9d47-b83c-54eeafc6'\n",
            "ERROR:unicorn_binance_websocket_api:BinanceWebSocketApiConnection.await._conn.__aenter__(52cc55bc62f0-3564-ca21-6d70-3490d134, ['kline_1m'], ['ltcusdt', 'btcusdt', 'bnbusdt', 'ethusdt', 'xrpusdt', 'trxusdt']) - InvalidStatusCode error_msg: server rejected WebSocket connection: HTTP 451\n",
            "ERROR:unicorn_binance_websocket_api:BinanceWebSocketApiConnection.send(52cc55bc62f0-3564-ca21-6d70-3490d134, ['kline_1m'], ['ltcusdt', 'btcusdt', 'bnbusdt', 'ethusdt', 'xrpusdt', 'trxusdt']) - Exception KeyError - error_msg:  '52cc55bc62f0-3564-ca21-6d70-3490d134'\n",
            "ERROR:unicorn_binance_websocket_api:BinanceWebSocketApiConnection.await._conn.__aenter__(57b9bf5a1f0d-e430-af2e-a48a-b30a2132, ['kline_1m'], ['ltcusdt', 'btcusdt', 'bnbusdt', 'ethusdt', 'xrpusdt', 'trxusdt']) - InvalidStatusCode error_msg: server rejected WebSocket connection: HTTP 451\n",
            "ERROR:unicorn_binance_websocket_api:BinanceWebSocketApiConnection.send(57b9bf5a1f0d-e430-af2e-a48a-b30a2132, ['kline_1m'], ['ltcusdt', 'btcusdt', 'bnbusdt', 'ethusdt', 'xrpusdt', 'trxusdt']) - Exception KeyError - error_msg:  '57b9bf5a1f0d-e430-af2e-a48a-b30a2132'\n",
            "ERROR:unicorn_binance_websocket_api:BinanceWebSocketApiConnection.receive(aa63f5ae43c0-c7de-9d47-b83c-54eeafc6) - KeyError - error_msg: 'aa63f5ae43c0-c7de-9d47-b83c-54eeafc6'\n",
            "ERROR:unicorn_binance_websocket_api:BinanceWebSocketApiConnection.__aexit__(aa63f5ae43c0-c7de-9d47-b83c-54eeafc6) - AttributeError - 'Connect' object has no attribute 'protocol'\n",
            "ERROR:unicorn_binance_websocket_api:BinanceWebSocketApiConnection.receive(52cc55bc62f0-3564-ca21-6d70-3490d134) - KeyError - error_msg: '52cc55bc62f0-3564-ca21-6d70-3490d134'\n",
            "ERROR:unicorn_binance_websocket_api:BinanceWebSocketApiConnection.__aexit__(52cc55bc62f0-3564-ca21-6d70-3490d134) - AttributeError - 'Connect' object has no attribute 'protocol'\n",
            "ERROR:unicorn_binance_websocket_api:BinanceWebSocketApiConnection.receive(57b9bf5a1f0d-e430-af2e-a48a-b30a2132) - KeyError - error_msg: '57b9bf5a1f0d-e430-af2e-a48a-b30a2132'\n",
            "ERROR:unicorn_binance_websocket_api:BinanceWebSocketApiConnection.__aexit__(57b9bf5a1f0d-e430-af2e-a48a-b30a2132) - AttributeError - 'Connect' object has no attribute 'protocol'\n",
            "ERROR:unicorn_binance_websocket_api:BinanceWebSocketApiConnection.await._conn.__aenter__(aa63f5ae43c0-c7de-9d47-b83c-54eeafc6, ['kline_1m'], ['btcusdt', 'bnbusdt', 'ethusdt', 'xrpusdt', 'trxusdt', 'ltcusdt']) - InvalidStatusCode error_msg: server rejected WebSocket connection: HTTP 451\n",
            "ERROR:unicorn_binance_websocket_api:BinanceWebSocketApiConnection.send(aa63f5ae43c0-c7de-9d47-b83c-54eeafc6, ['kline_1m'], ['btcusdt', 'bnbusdt', 'ethusdt', 'xrpusdt', 'trxusdt', 'ltcusdt']) - Exception KeyError - error_msg:  'aa63f5ae43c0-c7de-9d47-b83c-54eeafc6'\n",
            "ERROR:unicorn_binance_websocket_api:BinanceWebSocketApiConnection.await._conn.__aenter__(52cc55bc62f0-3564-ca21-6d70-3490d134, ['kline_1m'], ['btcusdt', 'bnbusdt', 'ethusdt', 'xrpusdt', 'trxusdt', 'ltcusdt']) - InvalidStatusCode error_msg: server rejected WebSocket connection: HTTP 451\n",
            "ERROR:unicorn_binance_websocket_api:BinanceWebSocketApiConnection.send(52cc55bc62f0-3564-ca21-6d70-3490d134, ['kline_1m'], ['btcusdt', 'bnbusdt', 'ethusdt', 'xrpusdt', 'trxusdt', 'ltcusdt']) - Exception KeyError - error_msg:  '52cc55bc62f0-3564-ca21-6d70-3490d134'\n",
            "ERROR:unicorn_binance_websocket_api:BinanceWebSocketApiConnection.await._conn.__aenter__(57b9bf5a1f0d-e430-af2e-a48a-b30a2132, ['kline_1m'], ['btcusdt', 'bnbusdt', 'ethusdt', 'xrpusdt', 'trxusdt', 'ltcusdt']) - InvalidStatusCode error_msg: server rejected WebSocket connection: HTTP 451\n",
            "ERROR:unicorn_binance_websocket_api:BinanceWebSocketApiConnection.send(57b9bf5a1f0d-e430-af2e-a48a-b30a2132, ['kline_1m'], ['btcusdt', 'bnbusdt', 'ethusdt', 'xrpusdt', 'trxusdt', 'ltcusdt']) - Exception KeyError - error_msg:  '57b9bf5a1f0d-e430-af2e-a48a-b30a2132'\n",
            "ERROR:unicorn_binance_websocket_api:BinanceWebSocketApiConnection.receive(aa63f5ae43c0-c7de-9d47-b83c-54eeafc6) - KeyError - error_msg: 'aa63f5ae43c0-c7de-9d47-b83c-54eeafc6'\n",
            "ERROR:unicorn_binance_websocket_api:BinanceWebSocketApiConnection.__aexit__(aa63f5ae43c0-c7de-9d47-b83c-54eeafc6) - AttributeError - 'Connect' object has no attribute 'protocol'\n",
            "ERROR:unicorn_binance_websocket_api:BinanceWebSocketApiConnection.receive(52cc55bc62f0-3564-ca21-6d70-3490d134) - KeyError - error_msg: '52cc55bc62f0-3564-ca21-6d70-3490d134'\n",
            "ERROR:unicorn_binance_websocket_api:BinanceWebSocketApiConnection.__aexit__(52cc55bc62f0-3564-ca21-6d70-3490d134) - AttributeError - 'Connect' object has no attribute 'protocol'\n",
            "ERROR:unicorn_binance_websocket_api:BinanceWebSocketApiConnection.receive(57b9bf5a1f0d-e430-af2e-a48a-b30a2132) - KeyError - error_msg: '57b9bf5a1f0d-e430-af2e-a48a-b30a2132'\n",
            "ERROR:unicorn_binance_websocket_api:BinanceWebSocketApiConnection.__aexit__(57b9bf5a1f0d-e430-af2e-a48a-b30a2132) - AttributeError - 'Connect' object has no attribute 'protocol'\n",
            "ERROR:unicorn_binance_websocket_api:BinanceWebSocketApiConnection.await._conn.__aenter__(52cc55bc62f0-3564-ca21-6d70-3490d134, ['kline_1m'], ['ltcusdt', 'btcusdt', 'bnbusdt', 'ethusdt', 'xrpusdt', 'trxusdt']) - InvalidStatusCode error_msg: server rejected WebSocket connection: HTTP 451\n",
            "ERROR:unicorn_binance_websocket_api:BinanceWebSocketApiConnection.send(52cc55bc62f0-3564-ca21-6d70-3490d134, ['kline_1m'], ['ltcusdt', 'btcusdt', 'bnbusdt', 'ethusdt', 'xrpusdt', 'trxusdt']) - Exception KeyError - error_msg:  '52cc55bc62f0-3564-ca21-6d70-3490d134'\n",
            "ERROR:unicorn_binance_websocket_api:BinanceWebSocketApiConnection.await._conn.__aenter__(aa63f5ae43c0-c7de-9d47-b83c-54eeafc6, ['kline_1m'], ['ltcusdt', 'btcusdt', 'bnbusdt', 'ethusdt', 'xrpusdt', 'trxusdt']) - InvalidStatusCode error_msg: server rejected WebSocket connection: HTTP 451\n",
            "ERROR:unicorn_binance_websocket_api:BinanceWebSocketApiConnection.send(aa63f5ae43c0-c7de-9d47-b83c-54eeafc6, ['kline_1m'], ['ltcusdt', 'btcusdt', 'bnbusdt', 'ethusdt', 'xrpusdt', 'trxusdt']) - Exception KeyError - error_msg:  'aa63f5ae43c0-c7de-9d47-b83c-54eeafc6'\n",
            "ERROR:unicorn_binance_websocket_api:BinanceWebSocketApiConnection.await._conn.__aenter__(57b9bf5a1f0d-e430-af2e-a48a-b30a2132, ['kline_1m'], ['ltcusdt', 'btcusdt', 'bnbusdt', 'ethusdt', 'xrpusdt', 'trxusdt']) - InvalidStatusCode error_msg: server rejected WebSocket connection: HTTP 451\n",
            "ERROR:unicorn_binance_websocket_api:BinanceWebSocketApiConnection.send(57b9bf5a1f0d-e430-af2e-a48a-b30a2132, ['kline_1m'], ['ltcusdt', 'btcusdt', 'bnbusdt', 'ethusdt', 'xrpusdt', 'trxusdt']) - Exception KeyError - error_msg:  '57b9bf5a1f0d-e430-af2e-a48a-b30a2132'\n",
            "ERROR:unicorn_binance_websocket_api:BinanceWebSocketApiConnection.receive(52cc55bc62f0-3564-ca21-6d70-3490d134) - KeyError - error_msg: '52cc55bc62f0-3564-ca21-6d70-3490d134'\n",
            "ERROR:unicorn_binance_websocket_api:BinanceWebSocketApiConnection.__aexit__(52cc55bc62f0-3564-ca21-6d70-3490d134) - AttributeError - 'Connect' object has no attribute 'protocol'\n",
            "ERROR:unicorn_binance_websocket_api:BinanceWebSocketApiConnection.receive(aa63f5ae43c0-c7de-9d47-b83c-54eeafc6) - KeyError - error_msg: 'aa63f5ae43c0-c7de-9d47-b83c-54eeafc6'\n",
            "ERROR:unicorn_binance_websocket_api:BinanceWebSocketApiConnection.__aexit__(aa63f5ae43c0-c7de-9d47-b83c-54eeafc6) - AttributeError - 'Connect' object has no attribute 'protocol'\n",
            "ERROR:unicorn_binance_websocket_api:BinanceWebSocketApiConnection.receive(57b9bf5a1f0d-e430-af2e-a48a-b30a2132) - KeyError - error_msg: '57b9bf5a1f0d-e430-af2e-a48a-b30a2132'\n",
            "ERROR:unicorn_binance_websocket_api:BinanceWebSocketApiConnection.__aexit__(57b9bf5a1f0d-e430-af2e-a48a-b30a2132) - AttributeError - 'Connect' object has no attribute 'protocol'\n"
          ]
        }
      ],
      "source": [
        "!pip install python-binance\n",
        "!pip install unicorn-binance-websocket-api"
      ]
    },
    {
      "cell_type": "code",
      "source": [
        "from binance.client import Client\n",
        "import unicorn_binance_websocket_api"
      ],
      "metadata": {
        "id": "m4e8G5oN5IZE"
      },
      "execution_count": 6,
      "outputs": []
    },
    {
      "cell_type": "code",
      "source": [
        "API_Key= \"yCDuE6E4PNgHGYG38rSU6NrwloW8akmCI86Hm7BDQHwqRNryWB1Li4QfDrrf1hyT\"\n",
        "Secret_Key=\"NUldRp4nkJFjBaOKVRQbQVpsADaxWeXnPpz08WCtO9B9Vd7wwYcJtogDOB1IJyZ6\""
      ],
      "metadata": {
        "id": "Cfei4Hi5_e3_"
      },
      "execution_count": 13,
      "outputs": []
    },
    {
      "cell_type": "code",
      "source": [
        "client = Client(API_Key, Secret_Key, testnet = True)"
      ],
      "metadata": {
        "id": "RItsNJmo5pq2"
      },
      "execution_count": 14,
      "outputs": []
    },
    {
      "cell_type": "code",
      "source": [
        "info =client.get_exchange_info();info"
      ],
      "metadata": {
        "id": "gjDAocp05uQp"
      },
      "execution_count": null,
      "outputs": []
    },
    {
      "cell_type": "code",
      "source": [
        "symbols = [i['symbol'] for i in info['symbols'] if i['symbol'].endswith('USDT')];symbols\n",
        "symbols = [i.lower() for i in symbols];symbols"
      ],
      "metadata": {
        "colab": {
          "base_uri": "https://localhost:8080/"
        },
        "id": "dgDGECDOBJR0",
        "outputId": "9413d823-f3cf-439c-bb01-4c72945b31a3"
      },
      "execution_count": 25,
      "outputs": [
        {
          "output_type": "execute_result",
          "data": {
            "text/plain": [
              "['bnbusdt', 'btcusdt', 'ethusdt', 'ltcusdt', 'trxusdt', 'xrpusdt']"
            ]
          },
          "metadata": {},
          "execution_count": 25
        }
      ]
    },
    {
      "cell_type": "code",
      "source": [
        "ubwa = unicorn_binance_websocket_api.BinanceWebSocketApiManager(exchange=\"binance.com\")\n",
        "ubwa.create_stream(['kline_1m'], symbols, output=\"UnicornFy\")"
      ],
      "metadata": {
        "colab": {
          "base_uri": "https://localhost:8080/",
          "height": 263
        },
        "id": "6EcPzRSn6GrR",
        "outputId": "363c2382-b218-4d3c-aa4c-8c60a6eecab6"
      },
      "execution_count": 28,
      "outputs": [
        {
          "output_type": "stream",
          "name": "stderr",
          "text": [
            "ERROR:unicorn_binance_websocket_api:BinanceWebSocketApiConnection.await._conn.__aenter__(aa63f5ae43c0-c7de-9d47-b83c-54eeafc6, ['kline_1m'], ['ltcusdt', 'btcusdt', 'bnbusdt', 'ethusdt', 'xrpusdt', 'trxusdt']) - InvalidStatusCode error_msg: server rejected WebSocket connection: HTTP 451\n",
            "ERROR:unicorn_binance_websocket_api:BinanceWebSocketApiConnection.send(aa63f5ae43c0-c7de-9d47-b83c-54eeafc6, ['kline_1m'], ['ltcusdt', 'btcusdt', 'bnbusdt', 'ethusdt', 'xrpusdt', 'trxusdt']) - Exception KeyError - error_msg:  'aa63f5ae43c0-c7de-9d47-b83c-54eeafc6'\n",
            "ERROR:unicorn_binance_websocket_api:BinanceWebSocketApiConnection.await._conn.__aenter__(52cc55bc62f0-3564-ca21-6d70-3490d134, ['kline_1m'], ['ltcusdt', 'btcusdt', 'bnbusdt', 'ethusdt', 'xrpusdt', 'trxusdt']) - InvalidStatusCode error_msg: server rejected WebSocket connection: HTTP 451\n",
            "ERROR:unicorn_binance_websocket_api:BinanceWebSocketApiConnection.send(52cc55bc62f0-3564-ca21-6d70-3490d134, ['kline_1m'], ['ltcusdt', 'btcusdt', 'bnbusdt', 'ethusdt', 'xrpusdt', 'trxusdt']) - Exception KeyError - error_msg:  '52cc55bc62f0-3564-ca21-6d70-3490d134'\n",
            "ERROR:unicorn_binance_websocket_api:BinanceWebSocketApiConnection.receive(aa63f5ae43c0-c7de-9d47-b83c-54eeafc6) - KeyError - error_msg: 'aa63f5ae43c0-c7de-9d47-b83c-54eeafc6'\n",
            "ERROR:unicorn_binance_websocket_api:BinanceWebSocketApiConnection.__aexit__(aa63f5ae43c0-c7de-9d47-b83c-54eeafc6) - AttributeError - 'Connect' object has no attribute 'protocol'\n",
            "ERROR:unicorn_binance_websocket_api:BinanceWebSocketApiConnection.receive(52cc55bc62f0-3564-ca21-6d70-3490d134) - KeyError - error_msg: '52cc55bc62f0-3564-ca21-6d70-3490d134'\n",
            "ERROR:unicorn_binance_websocket_api:BinanceWebSocketApiConnection.__aexit__(52cc55bc62f0-3564-ca21-6d70-3490d134) - AttributeError - 'Connect' object has no attribute 'protocol'\n",
            "ERROR:unicorn_binance_websocket_api:BinanceWebSocketApiConnection.await._conn.__aenter__(57b9bf5a1f0d-e430-af2e-a48a-b30a2132, ['kline_1m'], ['bnbusdt', 'btcusdt', 'ethusdt', 'ltcusdt', 'trxusdt', 'xrpusdt']) - InvalidStatusCode error_msg: server rejected WebSocket connection: HTTP 451\n",
            "ERROR:unicorn_binance_websocket_api:BinanceWebSocketApiConnection.send(57b9bf5a1f0d-e430-af2e-a48a-b30a2132, ['kline_1m'], ['bnbusdt', 'btcusdt', 'ethusdt', 'ltcusdt', 'trxusdt', 'xrpusdt']) - Exception KeyError - error_msg:  '57b9bf5a1f0d-e430-af2e-a48a-b30a2132'\n",
            "ERROR:unicorn_binance_websocket_api:BinanceWebSocketApiConnection.receive(57b9bf5a1f0d-e430-af2e-a48a-b30a2132) - KeyError - error_msg: '57b9bf5a1f0d-e430-af2e-a48a-b30a2132'\n",
            "ERROR:unicorn_binance_websocket_api:BinanceWebSocketApiConnection.__aexit__(57b9bf5a1f0d-e430-af2e-a48a-b30a2132) - AttributeError - 'Connect' object has no attribute 'protocol'\n"
          ]
        },
        {
          "output_type": "execute_result",
          "data": {
            "text/plain": [
              "'57b9bf5a1f0d-e430-af2e-a48a-b30a2132'"
            ],
            "application/vnd.google.colaboratory.intrinsic+json": {
              "type": "string"
            }
          },
          "metadata": {},
          "execution_count": 28
        }
      ]
    },
    {
      "cell_type": "code",
      "source": [
        "data  = ubwa.pop_stream_data_from_stream_buffer();data"
      ],
      "metadata": {
        "colab": {
          "base_uri": "https://localhost:8080/"
        },
        "id": "Cxt4_SvVBsZK",
        "outputId": "1caa5a9e-1622-4f8e-8aaa-b0450e4123b0"
      },
      "execution_count": 29,
      "outputs": [
        {
          "output_type": "stream",
          "name": "stderr",
          "text": [
            "ERROR:unicorn_binance_websocket_api:BinanceWebSocketApiConnection.receive(aa63f5ae43c0-c7de-9d47-b83c-54eeafc6) - KeyError - error_msg: 'aa63f5ae43c0-c7de-9d47-b83c-54eeafc6'\n",
            "ERROR:unicorn_binance_websocket_api:BinanceWebSocketApiConnection.__aexit__(aa63f5ae43c0-c7de-9d47-b83c-54eeafc6) - AttributeError - 'Connect' object has no attribute 'protocol'\n",
            "ERROR:unicorn_binance_websocket_api:BinanceWebSocketApiConnection.receive(52cc55bc62f0-3564-ca21-6d70-3490d134) - KeyError - error_msg: '52cc55bc62f0-3564-ca21-6d70-3490d134'\n",
            "ERROR:unicorn_binance_websocket_api:BinanceWebSocketApiConnection.__aexit__(52cc55bc62f0-3564-ca21-6d70-3490d134) - AttributeError - 'Connect' object has no attribute 'protocol'\n",
            "ERROR:unicorn_binance_websocket_api:BinanceWebSocketApiConnection.receive(57b9bf5a1f0d-e430-af2e-a48a-b30a2132) - KeyError - error_msg: '57b9bf5a1f0d-e430-af2e-a48a-b30a2132'\n",
            "ERROR:unicorn_binance_websocket_api:BinanceWebSocketApiConnection.__aexit__(57b9bf5a1f0d-e430-af2e-a48a-b30a2132) - AttributeError - 'Connect' object has no attribute 'protocol'\n"
          ]
        }
      ]
    },
    {
      "cell_type": "code",
      "source": [
        "while True:\n",
        "    data = uba.pop_stream_data_from_stream_buffer()"
      ],
      "metadata": {
        "id": "qaRqnhVoHE7N"
      },
      "execution_count": null,
      "outputs": []
    },
    {
      "cell_type": "code",
      "source": [],
      "metadata": {
        "id": "xVfMElreH6eU"
      },
      "execution_count": null,
      "outputs": []
    }
  ]
}